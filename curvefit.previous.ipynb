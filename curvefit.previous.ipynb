{
 "cells": [
  {
   "cell_type": "markdown",
   "metadata": {},
   "source": [
    "# Tracking the Growth of COVID-19 Cases\n",
    "\n",
    "The purpose of this notebook is to infer the rate at which confirmed cases of COVID-19 are growing (or were growing) in various countries.\n",
    "\n",
    "**The notebook pulls data from the Johns Hopkins [Data Repository](https://github.com/CSSEGISandData/COVID-19) of global Coronavirus COVID-19 cases**, and then does the following things:\n",
    "\n",
    "- List cumulative number of confirmed cases (in countries with at least 100 confirmed cases)\n",
    "- Attempt to fit the time series of cumulative confirmed cases to both an exponential and a logistic function\n",
    "- Use these curve fits to infer doubling times (i.e., time for the number of cumulative confirmed cases to double)\n",
    "\n",
    "We then repeat these steps for US states.\n",
    "\n",
    "The notebook is updated approximately daily.\n",
    "\n",
    "For a great primer on exponential and logistic growth, watch [this video](https://www.youtube.com/watch?v=Kas0tIxDvrg).\n",
    "\n",
    "## Important Caveats:\n",
    "\n",
    "- The growth rate (and the doubling time) changes with time. As the exponential curve eventually turns into a logistic curve, the growth rate will shrink to zero (& the doubling time will consequently increase). **So it's not a good idea to extrapolate trends far into the future based on current growth rates or doubling times.**\n",
    "\n",
    "- The confirmed cases reported by each country are not the number of infections in each country, only those that have tested positive.\n",
    "\n",
    "- The doubling time calculated here measures the growth of cumulative confirmed cases, which is different from the growth of infections. For example, if a country suddenly ramps up testing, then the number of confirmed cases will rapidly rise, but infections may not be rising as the same rate.\n",
    "\n",
    "- The doubling times inferred from the curve fits are not necessarily the current or most recent doubling times: \n",
    "    - For countries where the growth is still exponential, the inferred doubling time gives us a picture of the overall rate of growth. \n",
    "    - For countries where the growth is no longer exponential, and the number of cases is stabilizing (such as China and South Korea), we use a logistic function to fit the data instead. Here, the inferred doubling time represents the growth encountered during the middle of the growth of the epidemic. \n",
    "    - Finally, we compare these values to the recent doubling time, calculated from the most recent week of data."
   ]
  },
  {
   "cell_type": "code",
   "execution_count": 1,
   "metadata": {
    "scrolled": true
   },
   "outputs": [],
   "source": [
    "import pandas as pd\n",
    "import numpy as np\n",
    "import matplotlib.pyplot as plt\n",
    "from scipy.optimize import curve_fit"
   ]
  },
  {
   "cell_type": "code",
   "execution_count": 2,
   "metadata": {
    "scrolled": true
   },
   "outputs": [],
   "source": [
    "df = pd.read_csv('https://raw.githubusercontent.com/CSSEGISandData/COVID-19/master/csse_covid_19_data/csse_covid_19_time_series/time_series_covid19_confirmed_global.csv')"
   ]
  },
  {
   "cell_type": "markdown",
   "metadata": {},
   "source": [
    "## Curve Fitting Switzerland COVID-19 Cases"
   ]
  },
  {
   "cell_type": "code",
   "execution_count": 9,
   "metadata": {
    "scrolled": true
   },
   "outputs": [],
   "source": [
    "def logistic(t, a, b, c, d):\n",
    "    return c + (d - c)/(1 + a * np.exp(- b * t))\n",
    "\n",
    "def exponential(t, a, b, c):\n",
    "    return a * np.exp(b * t) + c\n",
    "\n",
    "def plotCases(dataframe, column, country):\n",
    "    \n",
    "    co = dataframe[dataframe[column] == country].iloc[:,4:].T.sum(axis = 1)\n",
    "    co = pd.DataFrame(co)\n",
    "    co.columns = ['Cases']\n",
    "    co = co.loc[co['Cases'] > 0]\n",
    "    \n",
    "    y = np.array(co['Cases'])\n",
    "    x = np.arange(y.size)\n",
    "    \n",
    "    recentdbltime = float('NaN')\n",
    "    \n",
    "    if len(y) >= 7:\n",
    "        \n",
    "        current = y[-1]\n",
    "        lastweek = y[-8]\n",
    "        two_weeks_ago = y[-15]\n",
    "        \n",
    "        if current > lastweek:\n",
    "            print('\\n** Based on Most Recent Week of Data **\\n')\n",
    "            print('\\tConfirmed cases on', co.index[-1], '\\t', current)\n",
    "            print('\\tConfirmed cases on', co.index[-8], '\\t', lastweek)\n",
    "            print('\\tConfirmed cases on', co.index[-15], '\\t', two_weeks_ago)\n",
    "            ratio = current/lastweek\n",
    "            two_weeks_ratio = lastweek / two_weeks_ago\n",
    "            print('\\tRatio (current/last):',round(ratio,2))\n",
    "            print('\\tRatio (lastweek/two_weeks_ago):',round(two_weeks_ratio,2))\n",
    "            print('\\tWeekly increase (last-current):',round( 100 * (ratio - 1), 1),'%')\n",
    "            print('\\tWeekly increase (2_weeks_ago-last):',round( 100 * (two_weeks_ratio - 1), 1),'%')\n",
    "            dailypercentchange = round( 100 * (pow(ratio, 1/7) - 1), 1)\n",
    "            print('\\tDaily increase (last-current):', dailypercentchange, '% per day')\n",
    "            dailypercentchange_two_weeks = round( 100 * (pow(two_weeks_ratio, 1/7) - 1), 1)\n",
    "            print('\\tDaily increase (2_weeks_ago-last):', dailypercentchange_two_weeks, '% per day')\n",
    "            recentdbltime = round( 7 * np.log(2) / np.log(ratio), 1)\n",
    "            print('\\tDoubling Time [last-current] (represents recent growth):',recentdbltime,'days')\n",
    "            recentdbltime_two_weeks = round( 7 * np.log(2) / np.log(two_weeks_ratio), 1)\n",
    "            print('\\tDoubling Time [2_weeks_ago-last] (represents recent growth):',recentdbltime_two_weeks,'days')\n",
    "\n",
    "    plt.figure(figsize=(10,5))\n",
    "    plt.plot(x, y, 'ko', label=\"Original Data\")\n",
    "    \n",
    "    logisticworked = False\n",
    "    exponentialworked = False\n",
    "    \n",
    "    try:\n",
    "        lpopt, lpcov = curve_fit(logistic, x, y, maxfev=10000)\n",
    "        lerror = np.sqrt(np.diag(lpcov))\n",
    "        \n",
    "        # for logistic curve at half maximum, slope = growth rate/2. so doubling time = ln(2) / (growth rate/2)\n",
    "        ldoubletime = np.log(2)/(lpopt[1]/2)\n",
    "        # standard error\n",
    "        ldoubletimeerror = 1.96 * ldoubletime * np.abs(lerror[1]/lpopt[1])\n",
    "        \n",
    "        # calculate R^2\n",
    "        residuals = y - logistic(x, *lpopt)\n",
    "        ss_res = np.sum(residuals**2)\n",
    "        ss_tot = np.sum((y - np.mean(y))**2)\n",
    "        logisticr2 = 1 - (ss_res / ss_tot)  \n",
    "        \n",
    "        if logisticr2 > 0.95:\n",
    "            plt.plot(x, logistic(x, *lpopt), 'b--', label=\"Logistic Curve Fit\")\n",
    "            print('\\n** Based on Logistic Fit**\\n')\n",
    "            print('\\tR^2:', logisticr2)\n",
    "            print('\\tDoubling Time (during middle of growth): ', round(ldoubletime,2), '(±', round(ldoubletimeerror,2),') days')\n",
    "            logisticworked = True\n",
    "    \n",
    "    except:\n",
    "        pass\n",
    "    \n",
    "    try:\n",
    "        epopt, epcov = curve_fit(exponential, x, y, bounds=([0,0,-100],[100,0.9,100]), maxfev=10000)\n",
    "        eerror = np.sqrt(np.diag(epcov))\n",
    "        \n",
    "        # for exponential curve, slope = growth rate. so doubling time = ln(2) / growth rate\n",
    "        edoubletime = np.log(2)/epopt[1]\n",
    "        # standard error\n",
    "        edoubletimeerror = 1.96 * edoubletime * np.abs(eerror[1]/epopt[1])\n",
    "        \n",
    "        # calculate R^2\n",
    "        residuals = y - exponential(x, *epopt)\n",
    "        ss_res = np.sum(residuals**2)\n",
    "        ss_tot = np.sum((y - np.mean(y))**2)\n",
    "        expr2 = 1 - (ss_res / ss_tot)\n",
    "        \n",
    "        if expr2 > 0.95:\n",
    "            plt.plot(x, exponential(x, *epopt), 'r--', label=\"Exponential Curve Fit\")\n",
    "            print('\\n** Based on Exponential Fit **\\n')\n",
    "            print('\\tR^2:', expr2)\n",
    "            print('\\tDoubling Time (represents overall growth): ', round(edoubletime,2), '(±', round(edoubletimeerror,2),') days')\n",
    "            exponentialworked = True\n",
    "            \n",
    "    except:\n",
    "        pass\n",
    "    \n",
    "    plt.xlabel('Days', fontsize=\"x-large\")\n",
    "    plt.ylabel('Total Cases', fontsize=\"x-large\")\n",
    "    plt.legend(fontsize=\"x-large\")\n",
    "    plt.show()\n",
    "    \n",
    "    if logisticworked and exponentialworked:\n",
    "        if round(logisticr2,2) > round(expr2,2):\n",
    "            return [ldoubletime, ldoubletimeerror, recentdbltime]\n",
    "        else:\n",
    "            return [edoubletime, edoubletimeerror, recentdbltime]\n",
    "            \n",
    "    if logisticworked:\n",
    "        return [ldoubletime, ldoubletimeerror, recentdbltime]\n",
    "    \n",
    "    if exponentialworked:\n",
    "        return [edoubletime, edoubletimeerror, recentdbltime]\n",
    "    \n",
    "    else:\n",
    "        return [float('NaN'), float('NaN'), recentdbltime]"
   ]
  },
  {
   "cell_type": "code",
   "execution_count": 10,
   "metadata": {
    "scrolled": false
   },
   "outputs": [
    {
     "name": "stdout",
     "output_type": "stream",
     "text": [
      "\n",
      "\n",
      "Switzerland\n",
      "\n",
      "** Based on Most Recent Week of Data **\n",
      "\n",
      "\tConfirmed cases on 3/27/20 \t 12928\n",
      "\tConfirmed cases on 3/20/20 \t 5294\n",
      "\tConfirmed cases on 3/13/20 \t 1139\n",
      "\tRatio (current/last): 2.44\n",
      "\tRatio (lastweek/two_weeks_ago): 4.65\n",
      "\tWeekly increase (last-current): 144.2 %\n",
      "\tWeekly increase (2_weeks_ago-last): 364.8 %\n",
      "\tDaily increase (last-current): 13.6 % per day\n",
      "\tDaily increase (2_weeks_ago-last): 24.5 % per day\n",
      "\tDoubling Time [last-current] (represents recent growth): 5.4 days\n",
      "\tDoubling Time [2_weeks_ago-last] (represents recent growth): 3.2 days\n",
      "\n",
      "** Based on Logistic Fit**\n",
      "\n",
      "\tR^2: 0.998663578943477\n",
      "\tDoubling Time (during middle of growth):  4.92 (± 0.35 ) days\n",
      "\n",
      "** Based on Exponential Fit **\n",
      "\n",
      "\tR^2: 0.9811510879225521\n",
      "\tDoubling Time (represents overall growth):  4.31 (± 0.52 ) days\n"
     ]
    },
    {
     "data": {
      "image/png": "[encoded data removed]",
      "text/plain": [
       "<Figure size 720x360 with 1 Axes>"
      ]
     },
     "metadata": {
      "needs_background": "light"
     },
     "output_type": "display_data"
    },
    {
     "name": "stdout",
     "output_type": "stream",
     "text": [
      "\n",
      "\n"
     ]
    }
   ],
   "source": [
    "inferreddoublingtime = []\n",
    "recentdoublingtime = []\n",
    "errors = []\n",
    "countries = []\n",
    "print('\\n')\n",
    "\n",
    "c = 'Switzerland'\n",
    "print(c)\n",
    "a = plotCases(df, 'Country/Region', c)\n",
    "if a:\n",
    "    countries.append(c)\n",
    "    inferreddoublingtime.append(a[0])\n",
    "    errors.append(a[1])\n",
    "    recentdoublingtime.append(a[2])\n",
    "print('\\n')"
   ]
  },
  {
   "cell_type": "code",
   "execution_count": null,
   "metadata": {},
   "outputs": [],
   "source": []
  }
 ],
 "metadata": {
  "kernelspec": {
   "display_name": "Python 3",
   "language": "python",
   "name": "python3"
  },
  "language_info": {
   "codemirror_mode": {
    "name": "ipython",
    "version": 3
   },
   "file_extension": ".py",
   "mimetype": "text/x-python",
   "name": "python",
   "nbconvert_exporter": "python",
   "pygments_lexer": "ipython3",
   "version": "3.7.6"
  }
 },
 "nbformat": 4,
 "nbformat_minor": 2
}
